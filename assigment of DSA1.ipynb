{
 "cells": [
  {
   "cell_type": "code",
   "execution_count": 6,
   "id": "c59e5860",
   "metadata": {},
   "outputs": [
    {
     "name": "stdout",
     "output_type": "stream",
     "text": [
      "4 3\n",
      "7 0\n",
      "9 -2\n"
     ]
    }
   ],
   "source": [
    "def pairofsum(arr,n,sum):\n",
    "    for i in range(0,n):\n",
    "        for j in range(i+1,n):\n",
    "            if(arr[i]+arr[j]==sum):\n",
    "                print(arr[i],arr[j])\n",
    "arr=[1,4,-4,7,9,3,0,-2]\n",
    "n=len(arr)\n",
    "sum=7\n",
    "pairofsum(arr,n,sum)"
   ]
  },
  {
   "cell_type": "code",
   "execution_count": null,
   "id": "76d64ac9",
   "metadata": {},
   "outputs": [],
   "source": []
  }
 ],
 "metadata": {
  "kernelspec": {
   "display_name": "Python 3",
   "language": "python",
   "name": "python3"
  },
  "language_info": {
   "codemirror_mode": {
    "name": "ipython",
    "version": 3
   },
   "file_extension": ".py",
   "mimetype": "text/x-python",
   "name": "python",
   "nbconvert_exporter": "python",
   "pygments_lexer": "ipython3",
   "version": "3.8.8"
  }
 },
 "nbformat": 4,
 "nbformat_minor": 5
}
